{
 "cells": [
  {
   "cell_type": "markdown",
   "metadata": {},
   "source": [
    "# Mailchimp"
   ]
  },
  {
   "cell_type": "markdown",
   "metadata": {},
   "source": [
    "What is Mailchimp API?\n",
    "The Mailchimp Marketing API provides programmatic access to Mailchimp data and functionality, allowing developers to build custom features to do things like sync email activity and campaign analytics with their database, manage audiences and campaigns, and more. To use the Marketing API, you need a Mailchimp account.  https://mailchimp.com/help/about-api-keys/"
   ]
  },
  {
   "cell_type": "code",
   "execution_count": 2,
   "metadata": {},
   "outputs": [
    {
     "data": {
      "text/html": [
       "<div>\n",
       "<style scoped>\n",
       "    .dataframe tbody tr th:only-of-type {\n",
       "        vertical-align: middle;\n",
       "    }\n",
       "\n",
       "    .dataframe tbody tr th {\n",
       "        vertical-align: top;\n",
       "    }\n",
       "\n",
       "    .dataframe thead th {\n",
       "        text-align: right;\n",
       "    }\n",
       "</style>\n",
       "<table border=\"1\" class=\"dataframe\">\n",
       "  <thead>\n",
       "    <tr style=\"text-align: right;\">\n",
       "      <th></th>\n",
       "      <th>Fname</th>\n",
       "      <th>Email</th>\n",
       "    </tr>\n",
       "  </thead>\n",
       "  <tbody>\n",
       "    <tr>\n",
       "      <th>0</th>\n",
       "      <td>Tom</td>\n",
       "      <td>Tom@mail.com</td>\n",
       "    </tr>\n",
       "    <tr>\n",
       "      <th>1</th>\n",
       "      <td>Jerry</td>\n",
       "      <td>Jerry@mail.com</td>\n",
       "    </tr>\n",
       "  </tbody>\n",
       "</table>\n",
       "</div>"
      ],
      "text/plain": [
       "   Fname           Email\n",
       "0    Tom    Tom@mail.com\n",
       "1  Jerry  Jerry@mail.com"
      ]
     },
     "execution_count": 2,
     "metadata": {},
     "output_type": "execute_result"
    }
   ],
   "source": [
    "import pandas as pd\n",
    "df= pd.read_csv(\"~/Desktop/MC.csv\")\n",
    "df.head()"
   ]
  },
  {
   "cell_type": "code",
   "execution_count": null,
   "metadata": {},
   "outputs": [],
   "source": [
    "tomail = df[['FName','Email']]\n",
    "audience = tomail.values.tolist()\n",
    "print(audience)"
   ]
  },
  {
   "cell_type": "code",
   "execution_count": null,
   "metadata": {},
   "outputs": [],
   "source": [
    "import mailchimp_transactional as MailchimpTransactional\n",
    "from mailchimp_transactional.api_client import ApiClientError\n",
    "\n",
    "mailchimp = MailchimpTransactional.Client('API KEY')\n",
    "#template_content = [{'content': 'welcome-to-socialzone-gb', 'name': 'Diageo GB Onboarding Content Ready'}]\n",
    "\n",
    "template_content= [\n",
    "        {\n",
    "            \"name\": \"header\",\n",
    "            \"content\": \"<h2>Your Order is Complete</h2>\"\n",
    "        },\n",
    "        {\n",
    "            \"name\": \"main\",\n",
    "            \"content\": \"We appreciate your business. Your order information is below.\"\n",
    "        }\n",
    "    ]\n",
    "\n",
    "def msgBody(x,y):\n",
    "    return{\n",
    "    \"from_email\": \"xxx@mail.com\",\n",
    "    \"from_name\": \"xxx\",\n",
    "    #\"template_name\": \"xyxy\"\n",
    "    \"AutoHtml\": \"true\",\n",
    "    \"merge\": True,\n",
    "    'merge_language': 'mailchimp',\n",
    "    'merge_vars': [{'rcpt': 'recipient.email@example.com',\n",
    "                     'vars': [{'content': 'merge2 content', 'name': 'merge2'}]}],\n",
    "    \"subject\": \"Finish Onboarding To Social Zone\",\n",
    "    \"send_at\": \"2021-02-10 14:48:00\",\n",
    "    \"text\": \"Welcome to Mailchimp Transactional Test!\",\n",
    "    \"to\": [\n",
    "      {\n",
    "        \"email\": y, \n",
    "        \"name\": x,\n",
    "        \"type\": \"to\"\n",
    "      }\n",
    "    ]\n",
    "        }\n",
    "    \n",
    "\n",
    "\n",
    "def run():\n",
    "    for x in audience:\n",
    "        try:\n",
    "            response = mailchimp.messages.send_template({\"template_name\":\"template_name\", \"template_content\":template_content, \"message\":msgBody(x[0],x[1])})\n",
    "            print('API called successfully: {}'.format(response))\n",
    "        except ApiClientError as error:\n",
    "            print('An exception occurred: {}'.format(error.text))\n",
    "\n",
    "run()\n"
   ]
  }
 ],
 "metadata": {
  "kernelspec": {
   "display_name": "Python 3",
   "language": "python",
   "name": "python3"
  },
  "language_info": {
   "codemirror_mode": {
    "name": "ipython",
    "version": 3
   },
   "file_extension": ".py",
   "mimetype": "text/x-python",
   "name": "python",
   "nbconvert_exporter": "python",
   "pygments_lexer": "ipython3",
   "version": "3.8.5"
  }
 },
 "nbformat": 4,
 "nbformat_minor": 4
}
